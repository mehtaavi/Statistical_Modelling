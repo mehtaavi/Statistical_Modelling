{
 "cells": [
  {
   "cell_type": "markdown",
   "metadata": {},
   "source": [
    "##### Problem 1\n",
    "Cold Storage started its operations in Jan 2016. They are in the business of storing Pasteurized Fresh\n",
    "Whole or Skimmed Milk, Sweet Cream, Flavoured Milk Drinks. To ensure that there is no change of\n",
    "texture, body appearance, separation of fats the optimal temperature to be maintained is between 2º - 4º\n",
    "C.\n",
    "In the first year of business, they outsourced the plant maintenance work to a professional company with stiff\n",
    "penalty clauses. It was agreed that if it was statistically proven that the probability of temperature going\n",
    "outside the 2º - 4º C during the one-year contract was above 2.5% and less than 5% then the penalty would\n",
    "be 10% of AMC (annual maintenance case). In case it exceeded 5% then the penalty would be 25% of the\n",
    "AMC fee. The average temperature data at the date level is given in the file\n",
    "“Cold_Storage_Temp_Data_.csv"
   ]
  },
  {
   "cell_type": "code",
   "execution_count": 1,
   "metadata": {},
   "outputs": [],
   "source": [
    "import numpy as np\n",
    "import pandas as pd\n",
    "from scipy.stats import norm\n",
    "import matplotlib.pyplot as plt\n",
    "%matplotlib inline\n",
    "import seaborn as sns\n"
   ]
  },
  {
   "cell_type": "code",
   "execution_count": 2,
   "metadata": {},
   "outputs": [],
   "source": [
    "# load the dataset\n",
    "\n",
    "cold_storage_df = pd.read_csv(\"Cold_Storage_Temp_Data_.csv\")"
   ]
  },
  {
   "cell_type": "code",
   "execution_count": 17,
   "metadata": {},
   "outputs": [
    {
     "data": {
      "text/html": [
       "<div>\n",
       "<style scoped>\n",
       "    .dataframe tbody tr th:only-of-type {\n",
       "        vertical-align: middle;\n",
       "    }\n",
       "\n",
       "    .dataframe tbody tr th {\n",
       "        vertical-align: top;\n",
       "    }\n",
       "\n",
       "    .dataframe thead th {\n",
       "        text-align: right;\n",
       "    }\n",
       "</style>\n",
       "<table border=\"1\" class=\"dataframe\">\n",
       "  <thead>\n",
       "    <tr style=\"text-align: right;\">\n",
       "      <th></th>\n",
       "      <th>Season</th>\n",
       "      <th>Month</th>\n",
       "      <th>Date</th>\n",
       "      <th>Temperature</th>\n",
       "    </tr>\n",
       "  </thead>\n",
       "  <tbody>\n",
       "    <tr>\n",
       "      <th>0</th>\n",
       "      <td>Winter</td>\n",
       "      <td>Jan</td>\n",
       "      <td>1</td>\n",
       "      <td>2.3</td>\n",
       "    </tr>\n",
       "    <tr>\n",
       "      <th>1</th>\n",
       "      <td>Winter</td>\n",
       "      <td>Jan</td>\n",
       "      <td>2</td>\n",
       "      <td>2.2</td>\n",
       "    </tr>\n",
       "    <tr>\n",
       "      <th>2</th>\n",
       "      <td>Winter</td>\n",
       "      <td>Jan</td>\n",
       "      <td>3</td>\n",
       "      <td>2.4</td>\n",
       "    </tr>\n",
       "    <tr>\n",
       "      <th>3</th>\n",
       "      <td>Winter</td>\n",
       "      <td>Jan</td>\n",
       "      <td>4</td>\n",
       "      <td>2.8</td>\n",
       "    </tr>\n",
       "    <tr>\n",
       "      <th>4</th>\n",
       "      <td>Winter</td>\n",
       "      <td>Jan</td>\n",
       "      <td>5</td>\n",
       "      <td>2.5</td>\n",
       "    </tr>\n",
       "  </tbody>\n",
       "</table>\n",
       "</div>"
      ],
      "text/plain": [
       "   Season Month  Date  Temperature \n",
       "0  Winter   Jan     1           2.3\n",
       "1  Winter   Jan     2           2.2\n",
       "2  Winter   Jan     3           2.4\n",
       "3  Winter   Jan     4           2.8\n",
       "4  Winter   Jan     5           2.5"
      ]
     },
     "execution_count": 17,
     "metadata": {},
     "output_type": "execute_result"
    }
   ],
   "source": [
    "cold_storage_df.head()"
   ]
  },
  {
   "cell_type": "code",
   "execution_count": 4,
   "metadata": {},
   "outputs": [
    {
     "name": "stdout",
     "output_type": "stream",
     "text": [
      "<class 'pandas.core.frame.DataFrame'>\n",
      "RangeIndex: 365 entries, 0 to 364\n",
      "Data columns (total 4 columns):\n",
      " #   Column        Non-Null Count  Dtype  \n",
      "---  ------        --------------  -----  \n",
      " 0   Season        365 non-null    object \n",
      " 1   Month         365 non-null    object \n",
      " 2   Date          365 non-null    int64  \n",
      " 3   Temperature   365 non-null    float64\n",
      "dtypes: float64(1), int64(1), object(2)\n",
      "memory usage: 11.5+ KB\n"
     ]
    }
   ],
   "source": [
    "# Information Of the dataset\n",
    "\n",
    "cold_storage_df.info()"
   ]
  },
  {
   "cell_type": "code",
   "execution_count": 5,
   "metadata": {},
   "outputs": [
    {
     "data": {
      "text/html": [
       "<div>\n",
       "<style scoped>\n",
       "    .dataframe tbody tr th:only-of-type {\n",
       "        vertical-align: middle;\n",
       "    }\n",
       "\n",
       "    .dataframe tbody tr th {\n",
       "        vertical-align: top;\n",
       "    }\n",
       "\n",
       "    .dataframe thead th {\n",
       "        text-align: right;\n",
       "    }\n",
       "</style>\n",
       "<table border=\"1\" class=\"dataframe\">\n",
       "  <thead>\n",
       "    <tr style=\"text-align: right;\">\n",
       "      <th></th>\n",
       "      <th>Date</th>\n",
       "      <th>Temperature</th>\n",
       "    </tr>\n",
       "  </thead>\n",
       "  <tbody>\n",
       "    <tr>\n",
       "      <th>count</th>\n",
       "      <td>365.000000</td>\n",
       "      <td>365.000000</td>\n",
       "    </tr>\n",
       "    <tr>\n",
       "      <th>mean</th>\n",
       "      <td>15.720548</td>\n",
       "      <td>3.002466</td>\n",
       "    </tr>\n",
       "    <tr>\n",
       "      <th>std</th>\n",
       "      <td>8.808321</td>\n",
       "      <td>0.465832</td>\n",
       "    </tr>\n",
       "    <tr>\n",
       "      <th>min</th>\n",
       "      <td>1.000000</td>\n",
       "      <td>1.700000</td>\n",
       "    </tr>\n",
       "    <tr>\n",
       "      <th>25%</th>\n",
       "      <td>8.000000</td>\n",
       "      <td>2.700000</td>\n",
       "    </tr>\n",
       "    <tr>\n",
       "      <th>50%</th>\n",
       "      <td>16.000000</td>\n",
       "      <td>3.000000</td>\n",
       "    </tr>\n",
       "    <tr>\n",
       "      <th>75%</th>\n",
       "      <td>23.000000</td>\n",
       "      <td>3.300000</td>\n",
       "    </tr>\n",
       "    <tr>\n",
       "      <th>max</th>\n",
       "      <td>31.000000</td>\n",
       "      <td>4.500000</td>\n",
       "    </tr>\n",
       "  </tbody>\n",
       "</table>\n",
       "</div>"
      ],
      "text/plain": [
       "             Date  Temperature \n",
       "count  365.000000    365.000000\n",
       "mean    15.720548      3.002466\n",
       "std      8.808321      0.465832\n",
       "min      1.000000      1.700000\n",
       "25%      8.000000      2.700000\n",
       "50%     16.000000      3.000000\n",
       "75%     23.000000      3.300000\n",
       "max     31.000000      4.500000"
      ]
     },
     "execution_count": 5,
     "metadata": {},
     "output_type": "execute_result"
    }
   ],
   "source": [
    "# Description of the dataset\n",
    "cold_storage_df.describe()"
   ]
  },
  {
   "cell_type": "code",
   "execution_count": 6,
   "metadata": {},
   "outputs": [
    {
     "data": {
      "text/plain": [
       "Season          0\n",
       "Month           0\n",
       "Date            0\n",
       "Temperature     0\n",
       "dtype: int64"
      ]
     },
     "execution_count": 6,
     "metadata": {},
     "output_type": "execute_result"
    }
   ],
   "source": [
    "# Checking for Missing Values\n",
    "cold_storage_df.isnull().sum()"
   ]
  },
  {
   "cell_type": "markdown",
   "metadata": {},
   "source": [
    "#### Univariate Analysis"
   ]
  },
  {
   "cell_type": "code",
   "execution_count": 7,
   "metadata": {},
   "outputs": [
    {
     "data": {
      "image/png": "[encoded data removed]",
      "text/plain": [
       "<Figure size 216x360 with 1 Axes>"
      ]
     },
     "metadata": {
      "needs_background": "light"
     },
     "output_type": "display_data"
    }
   ],
   "source": [
    "plt.figure(figsize=(3,5))\n",
    "sns.boxplot(y = cold_storage_df[\"Temperature \"]); "
   ]
  },
  {
   "cell_type": "code",
   "execution_count": 8,
   "metadata": {},
   "outputs": [
    {
     "name": "stderr",
     "output_type": "stream",
     "text": [
      "C:\\Users\\admin\\anaconda3\\lib\\site-packages\\seaborn\\distributions.py:2557: FutureWarning: `distplot` is a deprecated function and will be removed in a future version. Please adapt your code to use either `displot` (a figure-level function with similar flexibility) or `histplot` (an axes-level function for histograms).\n",
      "  warnings.warn(msg, FutureWarning)\n",
      "C:\\Users\\admin\\anaconda3\\lib\\site-packages\\seaborn\\distributions.py:2056: FutureWarning: The `axis` variable is no longer used and will be removed. Instead, assign variables directly to `x` or `y`.\n",
      "  warnings.warn(msg, FutureWarning)\n"
     ]
    },
    {
     "data": {
      "image/png": "[encoded data removed]",
      "text/plain": [
       "<Figure size 432x288 with 1 Axes>"
      ]
     },
     "metadata": {
      "needs_background": "light"
     },
     "output_type": "display_data"
    }
   ],
   "source": [
    "temp_plot = sns.distplot(cold_storage_df['Temperature '], fit=norm, kde=False,rug=True, hist=True)"
   ]
  },
  {
   "cell_type": "code",
   "execution_count": 9,
   "metadata": {},
   "outputs": [
    {
     "data": {
      "text/plain": [
       "<seaborn.axisgrid.FacetGrid at 0x2ab71eabb20>"
      ]
     },
     "execution_count": 9,
     "metadata": {},
     "output_type": "execute_result"
    },
    {
     "data": {
      "image/png": "[encoded data removed]",
      "text/plain": [
       "<Figure size 360x360 with 1 Axes>"
      ]
     },
     "metadata": {
      "needs_background": "light"
     },
     "output_type": "display_data"
    }
   ],
   "source": [
    "sns.displot(cold_storage_df, x=\"Temperature \", kind=\"kde\")"
   ]
  },
  {
   "cell_type": "code",
   "execution_count": 10,
   "metadata": {},
   "outputs": [
    {
     "data": {
      "text/plain": [
       "<seaborn.axisgrid.FacetGrid at 0x2ab71f76460>"
      ]
     },
     "execution_count": 10,
     "metadata": {},
     "output_type": "execute_result"
    },
    {
     "data": {
      "image/png": "[encoded data removed]",
      "text/plain": [
       "<Figure size 360x360 with 1 Axes>"
      ]
     },
     "metadata": {
      "needs_background": "light"
     },
     "output_type": "display_data"
    }
   ],
   "source": [
    "sns.displot(cold_storage_df, x=\"Temperature \")"
   ]
  },
  {
   "cell_type": "markdown",
   "metadata": {},
   "source": [
    "##### Bivariate Analysis"
   ]
  },
  {
   "cell_type": "code",
   "execution_count": 11,
   "metadata": {},
   "outputs": [
    {
     "data": {
      "image/png": "[encoded data removed]",
      "text/plain": [
       "<Figure size 360x360 with 1 Axes>"
      ]
     },
     "metadata": {
      "needs_background": "light"
     },
     "output_type": "display_data"
    }
   ],
   "source": [
    "fig = plt.figure(figsize=(5,5))\n",
    "sns.boxplot(x='Season',y='Temperature ',color=\"violet\",showmeans=True,data=cold_storage_df).set_title('Box plot of Temperature and Season')\n",
    "plt.show()"
   ]
  },
  {
   "cell_type": "code",
   "execution_count": 12,
   "metadata": {},
   "outputs": [
    {
     "data": {
      "image/png": "[encoded data removed]",
      "text/plain": [
       "<Figure size 360x360 with 1 Axes>"
      ]
     },
     "metadata": {
      "needs_background": "light"
     },
     "output_type": "display_data"
    }
   ],
   "source": [
    "fig = plt.figure(figsize=(5,5))\n",
    "sns.boxplot(x='Month',y='Temperature ',color=\"violet\",showmeans=True,data=cold_storage_df).set_title('Box plot of temperature and Month')\n",
    "plt.show()"
   ]
  },
  {
   "cell_type": "code",
   "execution_count": 13,
   "metadata": {},
   "outputs": [
    {
     "data": {
      "text/plain": [
       "<seaborn.axisgrid.PairGrid at 0x2ab720a7f40>"
      ]
     },
     "execution_count": 13,
     "metadata": {},
     "output_type": "execute_result"
    },
    {
     "data": {
      "image/png": "[encoded data removed]",
      "text/plain": [
       "<Figure size 360x360 with 6 Axes>"
      ]
     },
     "metadata": {
      "needs_background": "light"
     },
     "output_type": "display_data"
    }
   ],
   "source": [
    "sns.pairplot(cold_storage_df)"
   ]
  },
  {
   "cell_type": "code",
   "execution_count": 14,
   "metadata": {},
   "outputs": [
    {
     "data": {
      "text/plain": [
       "<AxesSubplot:xlabel='Temperature ', ylabel='Date'>"
      ]
     },
     "execution_count": 14,
     "metadata": {},
     "output_type": "execute_result"
    },
    {
     "data": {
      "image/png": "[encoded data removed]",
      "text/plain": [
       "<Figure size 432x288 with 1 Axes>"
      ]
     },
     "metadata": {
      "needs_background": "light"
     },
     "output_type": "display_data"
    }
   ],
   "source": [
    "sns.scatterplot(x=\"Temperature \",\n",
    "                    y=\"Date\",\n",
    "                    hue=\"Season\",\n",
    "                    \n",
    "                    data=cold_storage_df)"
   ]
  },
  {
   "cell_type": "markdown",
   "metadata": {},
   "source": [
    "##### 1. Find mean cold storage temperature for Summer, Winter, and Rainy Season. (7 marks)"
   ]
  },
  {
   "cell_type": "code",
   "execution_count": 15,
   "metadata": {},
   "outputs": [],
   "source": [
    "cold_storage_mean_temp_summer = cold_storage_df[cold_storage_df['Season'] == 'Summer']['Temperature '].mean() \n",
    "\n",
    "summer_std = cold_storage_df[cold_storage_df['Season'] == 'Summer']['Temperature '].std()\n",
    "\n",
    "cold_storage_mean_temp_winter = cold_storage_df[cold_storage_df['Season'] == 'Winter']['Temperature '].mean()\n",
    "\n",
    "winter_std = cold_storage_df[cold_storage_df['Season'] == 'Winter']['Temperature '].std()\n",
    "\n",
    "cold_storage_mean_temp_rainy = cold_storage_df[cold_storage_df['Season'] == 'Rainy']['Temperature '].mean()\n",
    "\n",
    "rainy_std = cold_storage_df[cold_storage_df['Season'] == 'Rainy']['Temperature '].std()\n"
   ]
  },
  {
   "cell_type": "code",
   "execution_count": 16,
   "metadata": {},
   "outputs": [
    {
     "name": "stdout",
     "output_type": "stream",
     "text": [
      "For Summer ===>> Average: 3.1475\t Stdandard Deviation: 0.3516975639247282\n",
      "For Winter ===>> Average: 2.776422764227643\t Stdandard Deviation: 0.4143098746885324\n",
      "For Rainy ===>> Average: 3.0877049180327876\t Stdandard Deviation: 0.5272065583642\n"
     ]
    }
   ],
   "source": [
    "print('For Summer ===>> Average: {}\\t Stdandard Deviation: {}'.format(cold_storage_mean_temp_summer, summer_std))\n",
    "\n",
    "print('For Winter ===>> Average: {}\\t Stdandard Deviation: {}'.format(cold_storage_mean_temp_winter, winter_std))\n",
    "\n",
    "print('For Rainy ===>> Average: {}\\t Stdandard Deviation: {}'.format(cold_storage_mean_temp_rainy, rainy_std))\n",
    "\n",
    "\n",
    "\n",
    "\n"
   ]
  },
  {
   "cell_type": "markdown",
   "metadata": {},
   "source": [
    "##### Inference:\n",
    "    From the dataset under analysis, it can be observed that the highest average temperature is being clocked for the season\n",
    "    of Summer, whereas the lowest is for Winter. \n",
    "    Although once can assume this to match the natural ambient temperatures of different seasons, \n",
    "    statistically we cannot draw a conclusion due to the lack of weather data across the year."
   ]
  },
  {
   "cell_type": "markdown",
   "metadata": {},
   "source": [
    "##### 2. Find the overall mean for the full year. (7 marks)\n"
   ]
  },
  {
   "cell_type": "code",
   "execution_count": 60,
   "metadata": {},
   "outputs": [
    {
     "name": "stdout",
     "output_type": "stream",
     "text": [
      "The Overall mean for the full year is :  3.0024657534246546\n"
     ]
    }
   ],
   "source": [
    "\n",
    "avg_temp = cold_storage_df['Temperature '].mean()\n",
    "\n",
    "print('The Overall mean for the full year is : ', avg_temp )"
   ]
  },
  {
   "cell_type": "markdown",
   "metadata": {},
   "source": [
    "##### 3. Find Standard Deviation for the full year. (7 marks)\n"
   ]
  },
  {
   "cell_type": "code",
   "execution_count": 61,
   "metadata": {},
   "outputs": [
    {
     "name": "stdout",
     "output_type": "stream",
     "text": [
      "The Standard Deviation for the full year is :  0.4658319416510761\n"
     ]
    }
   ],
   "source": [
    "std_dev = cold_storage_df['Temperature '].std()\n",
    "\n",
    "print('The Standard Deviation for the full year is : ', std_dev )"
   ]
  },
  {
   "cell_type": "markdown",
   "metadata": {},
   "source": [
    "##### 4. Assume Normal distribution, what is the probability of temperature having fallen below 2º C? (7 marks)"
   ]
  },
  {
   "cell_type": "markdown",
   "metadata": {},
   "source": [
    "X ~ Normal ( 𝜇 = 3.0024 , 𝜎 = 0.4658)"
   ]
  },
  {
   "cell_type": "code",
   "execution_count": 62,
   "metadata": {},
   "outputs": [
    {
     "name": "stdout",
     "output_type": "stream",
     "text": [
      "The Probability of temperature having fallen below 2º C i.e. P(X < 2):  0.015698812451913943\n"
     ]
    }
   ],
   "source": [
    "import scipy.stats as stats\n",
    "\n",
    "print('The Probability of temperature having fallen below 2º C i.e. P(X < 2): ', stats.norm.cdf(2,3.0024,0.4658))"
   ]
  },
  {
   "cell_type": "code",
   "execution_count": 63,
   "metadata": {},
   "outputs": [
    {
     "name": "stdout",
     "output_type": "stream",
     "text": [
      "Probability P(X < 2): 0.015699064791364483\n"
     ]
    }
   ],
   "source": [
    "# ALternate Method\n",
    "#  standardize value to compare: (X - mean)/std\n",
    "stand_value = (2-avg_temp)/std_dev\n",
    "p = norm.cdf(stand_value)\n",
    "print(\"Probability P(X < 2): {}\".format(p))"
   ]
  },
  {
   "cell_type": "markdown",
   "metadata": {},
   "source": [
    "##### 5. Assume Normal distribution, what is the probability of temperature having gone above 4º C? (7 marks)"
   ]
  },
  {
   "cell_type": "markdown",
   "metadata": {},
   "source": [
    "X ~ Normal ( 𝜇  = 3.0024 ,  𝜎  = 0.4658)"
   ]
  },
  {
   "cell_type": "code",
   "execution_count": 64,
   "metadata": {},
   "outputs": [
    {
     "name": "stdout",
     "output_type": "stream",
     "text": [
      "Probability P(X > 4):  1.6121\n"
     ]
    }
   ],
   "source": [
    "stand_value = (4-avg_temp)/std_dev\n",
    "p_4 = norm.cdf(stand_value)\n",
    "\n",
    "# p = 1-p because it asks for the probability ABOVE\n",
    "p_4 = 1 - p_4\n",
    "print(\"Probability P(X > 4): \", round((p_4 * 100),4))\n",
    "# print(\"Probability P(X > 4): {}\".format(p_4))\n"
   ]
  },
  {
   "cell_type": "code",
   "execution_count": 65,
   "metadata": {},
   "outputs": [
    {
     "name": "stdout",
     "output_type": "stream",
     "text": [
      "The probability of temperature having gone above 4º C i.e Probability P(X > 4):  0.01610914900095306\n"
     ]
    }
   ],
   "source": [
    "print('The probability of temperature having gone above 4º C i.e Probability P(X > 4): ',1 - stats.norm.cdf(4,3.0024,0.4658))"
   ]
  },
  {
   "cell_type": "markdown",
   "metadata": {},
   "source": [
    "##### 6. What will be the penalty for the AMC Company? (5 marks)"
   ]
  },
  {
   "cell_type": "code",
   "execution_count": 66,
   "metadata": {},
   "outputs": [
    {
     "name": "stdout",
     "output_type": "stream",
     "text": [
      "Probability total :  3.182\n"
     ]
    }
   ],
   "source": [
    "penalty = p + p_4\n",
    "\n",
    "print(\"Probability total : \", round((penalty *100),4))\n",
    "\n",
    "# print(\"Probability total: {}\".format(penalty))"
   ]
  },
  {
   "cell_type": "markdown",
   "metadata": {},
   "source": [
    "Let’s say,\n",
    "\n",
    "P(OT) = Probability of temperature between 2ºC - 4º C,\n",
    "\n",
    "Where OT = temperature in the range of 2ºC - 4º C\n",
    "\n",
    "Since sum of the total area under the curve = 1 \n",
    "\n",
    "probability of temperature outside of range of 2ºC - 4º C = 1- P(OT)\n",
    "\n",
    "From data analysis through python (attached separately), we know the\n",
    "following\n",
    "\n",
    "P(OT) = 96.82% i.e Probability of temperature between 2ºC - 4º C = 96.82%\n",
    "\n",
    "So, The probability of temperature outside the range of 2ºC - 4º C = (100%-\n",
    "96.82%) ~ 3.18%\n",
    "\n",
    "Statistically the probability of temperature going outside the 2ºC - 4º C during the one-year contract was 3.18% (between 2.5% and 5% ), so a penalty be of 10% should be applicable to AMC company (annual maintenance case)\n"
   ]
  },
  {
   "cell_type": "markdown",
   "metadata": {},
   "source": [
    "##### Problem 2:\n",
    "In Mar 2018, Cold Storage started getting complaints from their clients that they have been getting complaints from\n",
    "end consumers of the dairy products going sour and often smelling. On getting these complaints, the supervisor\n",
    "pulls out data of the last 35 days’ temperatures. As a safety measure, the Supervisor has been vigilant to maintain\n",
    "the mean temperature 3.9º C or below.\n",
    "Assume 3.9º C as the upper acceptable mean temperature and at alpha = 0.1 do you feel that there is a\n",
    "need for some corrective action in the Cold Storage Plant or is it that the problem is from the procurement\n",
    "side from where Cold Storage is getting the Dairy Products. The data of the last 35 days is in\n",
    "“Cold_Storage_Mar2018_.csv”"
   ]
  },
  {
   "cell_type": "code",
   "execution_count": 2,
   "metadata": {},
   "outputs": [],
   "source": [
    "import numpy as np\n",
    "import pandas as pd\n",
    "from scipy.stats import norm\n",
    "import matplotlib.pyplot as plt\n",
    "%matplotlib inline\n",
    "import seaborn as sns\n",
    "\n",
    "from scipy.stats import ttest_1samp\n"
   ]
  },
  {
   "cell_type": "code",
   "execution_count": 3,
   "metadata": {},
   "outputs": [],
   "source": [
    "# load the dataset\n",
    "\n",
    "cold_storage_mar_2018_df = pd.read_csv(\"Cold_Storage_Mar2018_.csv\")"
   ]
  },
  {
   "cell_type": "code",
   "execution_count": 4,
   "metadata": {},
   "outputs": [
    {
     "data": {
      "text/html": [
       "<div>\n",
       "<style scoped>\n",
       "    .dataframe tbody tr th:only-of-type {\n",
       "        vertical-align: middle;\n",
       "    }\n",
       "\n",
       "    .dataframe tbody tr th {\n",
       "        vertical-align: top;\n",
       "    }\n",
       "\n",
       "    .dataframe thead th {\n",
       "        text-align: right;\n",
       "    }\n",
       "</style>\n",
       "<table border=\"1\" class=\"dataframe\">\n",
       "  <thead>\n",
       "    <tr style=\"text-align: right;\">\n",
       "      <th></th>\n",
       "      <th>Season</th>\n",
       "      <th>Month</th>\n",
       "      <th>Date</th>\n",
       "      <th>Temperature</th>\n",
       "    </tr>\n",
       "  </thead>\n",
       "  <tbody>\n",
       "    <tr>\n",
       "      <th>0</th>\n",
       "      <td>Summer</td>\n",
       "      <td>Feb</td>\n",
       "      <td>11</td>\n",
       "      <td>4.0</td>\n",
       "    </tr>\n",
       "    <tr>\n",
       "      <th>1</th>\n",
       "      <td>Summer</td>\n",
       "      <td>Feb</td>\n",
       "      <td>12</td>\n",
       "      <td>3.9</td>\n",
       "    </tr>\n",
       "    <tr>\n",
       "      <th>2</th>\n",
       "      <td>Summer</td>\n",
       "      <td>Feb</td>\n",
       "      <td>13</td>\n",
       "      <td>3.9</td>\n",
       "    </tr>\n",
       "    <tr>\n",
       "      <th>3</th>\n",
       "      <td>Summer</td>\n",
       "      <td>Feb</td>\n",
       "      <td>14</td>\n",
       "      <td>4.0</td>\n",
       "    </tr>\n",
       "    <tr>\n",
       "      <th>4</th>\n",
       "      <td>Summer</td>\n",
       "      <td>Feb</td>\n",
       "      <td>15</td>\n",
       "      <td>3.8</td>\n",
       "    </tr>\n",
       "  </tbody>\n",
       "</table>\n",
       "</div>"
      ],
      "text/plain": [
       "   Season Month  Date  Temperature\n",
       "0  Summer   Feb    11          4.0\n",
       "1  Summer   Feb    12          3.9\n",
       "2  Summer   Feb    13          3.9\n",
       "3  Summer   Feb    14          4.0\n",
       "4  Summer   Feb    15          3.8"
      ]
     },
     "execution_count": 4,
     "metadata": {},
     "output_type": "execute_result"
    }
   ],
   "source": [
    "cold_storage_mar_2018_df.head()"
   ]
  },
  {
   "cell_type": "code",
   "execution_count": 5,
   "metadata": {},
   "outputs": [
    {
     "name": "stdout",
     "output_type": "stream",
     "text": [
      "<class 'pandas.core.frame.DataFrame'>\n",
      "RangeIndex: 35 entries, 0 to 34\n",
      "Data columns (total 4 columns):\n",
      " #   Column       Non-Null Count  Dtype  \n",
      "---  ------       --------------  -----  \n",
      " 0   Season       35 non-null     object \n",
      " 1   Month        35 non-null     object \n",
      " 2   Date         35 non-null     int64  \n",
      " 3   Temperature  35 non-null     float64\n",
      "dtypes: float64(1), int64(1), object(2)\n",
      "memory usage: 1.2+ KB\n"
     ]
    }
   ],
   "source": [
    "# Information Of the dataset\n",
    "\n",
    "cold_storage_mar_2018_df.info()"
   ]
  },
  {
   "cell_type": "code",
   "execution_count": 6,
   "metadata": {},
   "outputs": [
    {
     "data": {
      "text/html": [
       "<div>\n",
       "<style scoped>\n",
       "    .dataframe tbody tr th:only-of-type {\n",
       "        vertical-align: middle;\n",
       "    }\n",
       "\n",
       "    .dataframe tbody tr th {\n",
       "        vertical-align: top;\n",
       "    }\n",
       "\n",
       "    .dataframe thead th {\n",
       "        text-align: right;\n",
       "    }\n",
       "</style>\n",
       "<table border=\"1\" class=\"dataframe\">\n",
       "  <thead>\n",
       "    <tr style=\"text-align: right;\">\n",
       "      <th></th>\n",
       "      <th>Date</th>\n",
       "      <th>Temperature</th>\n",
       "    </tr>\n",
       "  </thead>\n",
       "  <tbody>\n",
       "    <tr>\n",
       "      <th>count</th>\n",
       "      <td>35.000000</td>\n",
       "      <td>35.000000</td>\n",
       "    </tr>\n",
       "    <tr>\n",
       "      <th>mean</th>\n",
       "      <td>14.400000</td>\n",
       "      <td>3.974286</td>\n",
       "    </tr>\n",
       "    <tr>\n",
       "      <th>std</th>\n",
       "      <td>7.389181</td>\n",
       "      <td>0.159674</td>\n",
       "    </tr>\n",
       "    <tr>\n",
       "      <th>min</th>\n",
       "      <td>1.000000</td>\n",
       "      <td>3.800000</td>\n",
       "    </tr>\n",
       "    <tr>\n",
       "      <th>25%</th>\n",
       "      <td>9.500000</td>\n",
       "      <td>3.900000</td>\n",
       "    </tr>\n",
       "    <tr>\n",
       "      <th>50%</th>\n",
       "      <td>14.000000</td>\n",
       "      <td>3.900000</td>\n",
       "    </tr>\n",
       "    <tr>\n",
       "      <th>75%</th>\n",
       "      <td>19.500000</td>\n",
       "      <td>4.100000</td>\n",
       "    </tr>\n",
       "    <tr>\n",
       "      <th>max</th>\n",
       "      <td>28.000000</td>\n",
       "      <td>4.600000</td>\n",
       "    </tr>\n",
       "  </tbody>\n",
       "</table>\n",
       "</div>"
      ],
      "text/plain": [
       "            Date  Temperature\n",
       "count  35.000000    35.000000\n",
       "mean   14.400000     3.974286\n",
       "std     7.389181     0.159674\n",
       "min     1.000000     3.800000\n",
       "25%     9.500000     3.900000\n",
       "50%    14.000000     3.900000\n",
       "75%    19.500000     4.100000\n",
       "max    28.000000     4.600000"
      ]
     },
     "execution_count": 6,
     "metadata": {},
     "output_type": "execute_result"
    }
   ],
   "source": [
    "# Description of the dataset\n",
    "cold_storage_mar_2018_df.describe()"
   ]
  },
  {
   "cell_type": "code",
   "execution_count": 7,
   "metadata": {},
   "outputs": [
    {
     "data": {
      "text/plain": [
       "Season         0\n",
       "Month          0\n",
       "Date           0\n",
       "Temperature    0\n",
       "dtype: int64"
      ]
     },
     "execution_count": 7,
     "metadata": {},
     "output_type": "execute_result"
    }
   ],
   "source": [
    "# Checking for Missing Values\n",
    "cold_storage_mar_2018_df.isnull().sum()"
   ]
  },
  {
   "cell_type": "code",
   "execution_count": 8,
   "metadata": {},
   "outputs": [
    {
     "data": {
      "image/png": "[encoded data removed]",
      "text/plain": [
       "<Figure size 216x360 with 1 Axes>"
      ]
     },
     "metadata": {
      "needs_background": "light"
     },
     "output_type": "display_data"
    }
   ],
   "source": [
    "plt.figure(figsize=(3,5))\n",
    "sns.boxplot(y = cold_storage_mar_2018_df[\"Temperature\"]); "
   ]
  },
  {
   "cell_type": "markdown",
   "metadata": {},
   "source": [
    "Inference: \n",
    "    It has outliers"
   ]
  },
  {
   "cell_type": "code",
   "execution_count": 35,
   "metadata": {},
   "outputs": [
    {
     "name": "stderr",
     "output_type": "stream",
     "text": [
      "C:\\Users\\admin\\anaconda3\\lib\\site-packages\\seaborn\\distributions.py:2557: FutureWarning: `distplot` is a deprecated function and will be removed in a future version. Please adapt your code to use either `displot` (a figure-level function with similar flexibility) or `histplot` (an axes-level function for histograms).\n",
      "  warnings.warn(msg, FutureWarning)\n",
      "C:\\Users\\admin\\anaconda3\\lib\\site-packages\\seaborn\\distributions.py:2056: FutureWarning: The `axis` variable is no longer used and will be removed. Instead, assign variables directly to `x` or `y`.\n",
      "  warnings.warn(msg, FutureWarning)\n"
     ]
    },
    {
     "data": {
      "image/png": "[encoded data removed]",
      "text/plain": [
       "<Figure size 432x288 with 1 Axes>"
      ]
     },
     "metadata": {
      "needs_background": "light"
     },
     "output_type": "display_data"
    }
   ],
   "source": [
    "temp_plot = sns.distplot(cold_storage_mar_2018_df['Temperature'], fit=norm, kde=False,rug=True, hist=True)"
   ]
  },
  {
   "cell_type": "code",
   "execution_count": 57,
   "metadata": {},
   "outputs": [
    {
     "data": {
      "text/plain": [
       "<seaborn.axisgrid.FacetGrid at 0x21229cd4130>"
      ]
     },
     "execution_count": 57,
     "metadata": {},
     "output_type": "execute_result"
    },
    {
     "data": {
      "image/png": "[encoded data removed]",
      "text/plain": [
       "<Figure size 360x360 with 1 Axes>"
      ]
     },
     "metadata": {
      "needs_background": "light"
     },
     "output_type": "display_data"
    }
   ],
   "source": [
    "sns.displot(cold_storage_mar_2018_df, x=\"Temperature\")"
   ]
  },
  {
   "cell_type": "markdown",
   "metadata": {},
   "source": [
    "##### 1. Which Hypothesis test shall be performed to check if corrective action is needed at the cold storage plant? Justify your answer. (6 marks)\n"
   ]
  },
  {
   "cell_type": "markdown",
   "metadata": {},
   "source": [
    "Hypothesis will be defined for both Z and T test as (both will carry the same hypothesis)\n",
    "\n",
    "Sample size = n = 35 days temperatures\n",
    "\n",
    "H0 mu <= 3.9 , hypothesized value of mean population (Upper acceptable mean temperature 3.9 )\n",
    "\n",
    "H1 mu > 3.9 , alternative hypothesis (The mean temperature of the storage could be greater than 3.9 C)\n",
    "\n",
    "Null hypothesis, H0 = Average temperature will be less than or equivalent to upper limit of 3.9 degC\n",
    "\n",
    "Alternate hypothesis, H1 = Average temp has risen more than 3.9 degC\n",
    "\n",
    "Alpha(𝛼) = 0.1\n",
    "\n",
    "SD - Not known "
   ]
  },
  {
   "cell_type": "code",
   "execution_count": 10,
   "metadata": {},
   "outputs": [
    {
     "data": {
      "text/html": [
       "<div>\n",
       "<style scoped>\n",
       "    .dataframe tbody tr th:only-of-type {\n",
       "        vertical-align: middle;\n",
       "    }\n",
       "\n",
       "    .dataframe tbody tr th {\n",
       "        vertical-align: top;\n",
       "    }\n",
       "\n",
       "    .dataframe thead th {\n",
       "        text-align: right;\n",
       "    }\n",
       "</style>\n",
       "<table border=\"1\" class=\"dataframe\">\n",
       "  <thead>\n",
       "    <tr style=\"text-align: right;\">\n",
       "      <th></th>\n",
       "      <th>Date</th>\n",
       "      <th>Temperature</th>\n",
       "    </tr>\n",
       "  </thead>\n",
       "  <tbody>\n",
       "    <tr>\n",
       "      <th>count</th>\n",
       "      <td>35.000000</td>\n",
       "      <td>35.000000</td>\n",
       "    </tr>\n",
       "    <tr>\n",
       "      <th>mean</th>\n",
       "      <td>14.400000</td>\n",
       "      <td>3.974286</td>\n",
       "    </tr>\n",
       "    <tr>\n",
       "      <th>std</th>\n",
       "      <td>7.389181</td>\n",
       "      <td>0.159674</td>\n",
       "    </tr>\n",
       "    <tr>\n",
       "      <th>min</th>\n",
       "      <td>1.000000</td>\n",
       "      <td>3.800000</td>\n",
       "    </tr>\n",
       "    <tr>\n",
       "      <th>25%</th>\n",
       "      <td>9.500000</td>\n",
       "      <td>3.900000</td>\n",
       "    </tr>\n",
       "    <tr>\n",
       "      <th>50%</th>\n",
       "      <td>14.000000</td>\n",
       "      <td>3.900000</td>\n",
       "    </tr>\n",
       "    <tr>\n",
       "      <th>75%</th>\n",
       "      <td>19.500000</td>\n",
       "      <td>4.100000</td>\n",
       "    </tr>\n",
       "    <tr>\n",
       "      <th>max</th>\n",
       "      <td>28.000000</td>\n",
       "      <td>4.600000</td>\n",
       "    </tr>\n",
       "  </tbody>\n",
       "</table>\n",
       "</div>"
      ],
      "text/plain": [
       "            Date  Temperature\n",
       "count  35.000000    35.000000\n",
       "mean   14.400000     3.974286\n",
       "std     7.389181     0.159674\n",
       "min     1.000000     3.800000\n",
       "25%     9.500000     3.900000\n",
       "50%    14.000000     3.900000\n",
       "75%    19.500000     4.100000\n",
       "max    28.000000     4.600000"
      ]
     },
     "execution_count": 10,
     "metadata": {},
     "output_type": "execute_result"
    }
   ],
   "source": [
    "cold_storage_mar_2018_df.describe()"
   ]
  },
  {
   "cell_type": "markdown",
   "metadata": {},
   "source": [
    "##### Observation : \n",
    "    \n",
    "  Max temperature has 4.6 C starting with 4.1 from 3rd Quartile. This indicates that sometimes the temperature has gone higher.\n",
    "    \n",
    "  Also we can see that the sample size is small and we don’t know the standard deviation of the population. \n",
    "    \n",
    "  Also as the sample size is greater than 35, as per central Limit theorem, the sample distribution would be a normal distribution. \n",
    "    \n",
    "   So we can use one sample z-test in this case."
   ]
  },
  {
   "cell_type": "code",
   "execution_count": 11,
   "metadata": {},
   "outputs": [],
   "source": [
    "import math\n",
    "from math import sqrt"
   ]
  },
  {
   "cell_type": "markdown",
   "metadata": {},
   "source": [
    "##### Step 1: Define null and alternative hypotheses"
   ]
  },
  {
   "cell_type": "markdown",
   "metadata": {},
   "source": [
    "H0 mu <= 3.9 , hypothesized value of mean population (Upper acceptable mean temperature 3.9 )\n",
    "\n",
    "H1 mu > 3.9 , alternative hypothesis (The mean temperature of the storage could be greater than 3.9 C)\n",
    "\n",
    "Null hypothesis, H0 = Average temperature will be less than or equivalent to upper limit of 3.9 degC\n",
    "\n",
    "Alternate hypothesis, H1 = Average temp has risen more than 3.9 degC"
   ]
  },
  {
   "cell_type": "markdown",
   "metadata": {},
   "source": [
    "##### Step 2: Decide the significance level"
   ]
  },
  {
   "cell_type": "markdown",
   "metadata": {},
   "source": [
    "alpha(𝛼) = 0.1"
   ]
  },
  {
   "cell_type": "code",
   "execution_count": 12,
   "metadata": {},
   "outputs": [
    {
     "name": "stdout",
     "output_type": "stream",
     "text": [
      "The sample size for this problem is  35\n"
     ]
    }
   ],
   "source": [
    "sample_size = len(cold_storage_mar_2018_df)\n",
    "\n",
    "print(\"The sample size for this problem is \" ,sample_size)"
   ]
  },
  {
   "cell_type": "markdown",
   "metadata": {},
   "source": [
    "##### Step 3: Identify the test statistic"
   ]
  },
  {
   "cell_type": "markdown",
   "metadata": {},
   "source": [
    "Step 3: Identify the test statistic"
   ]
  },
  {
   "cell_type": "markdown",
   "metadata": {},
   "source": [
    "H0: mu<=3.9\n",
    "H1: mu>3.9\n",
    "\n",
    "One tailed one sample test\n",
    "\n",
    "For Z test, population standard deviation is required to calculate test statistic. If our population standard deviation is unknown but sample size greater than equal to 30, we can invoke the Central Limit Theorem and use the test statistic: \n",
    "as z =(avg_temp_1-mu)/(std_dev/(sqrt(sample_size))), here std_dev is the sample standard deviation. Here sample_size=35, hence we can use sample standard deviation to calculate z score (test statistic)\n"
   ]
  },
  {
   "cell_type": "markdown",
   "metadata": {},
   "source": [
    "##### Step 4: Calculate the z-score and z-critical"
   ]
  },
  {
   "cell_type": "code",
   "execution_count": 13,
   "metadata": {},
   "outputs": [
    {
     "name": "stdout",
     "output_type": "stream",
     "text": [
      "The average temperature is :  3.974285714285715\n"
     ]
    }
   ],
   "source": [
    "avg_temp_1 =cold_storage_mar_2018_df['Temperature'].mean()\n",
    "\n",
    "print('The average temperature is : ',avg_temp_1)"
   ]
  },
  {
   "cell_type": "code",
   "execution_count": 14,
   "metadata": {},
   "outputs": [
    {
     "name": "stdout",
     "output_type": "stream",
     "text": [
      "The Standard Deviation for the temperature is :  0.15967403771223337\n"
     ]
    }
   ],
   "source": [
    "std_dev =cold_storage_mar_2018_df['Temperature'].std()\n",
    "\n",
    "print('The Standard Deviation for the temperature is : ',std_dev)"
   ]
  },
  {
   "cell_type": "code",
   "execution_count": 29,
   "metadata": {},
   "outputs": [
    {
     "name": "stdout",
     "output_type": "stream",
     "text": [
      "('z score is', 2.7524)\n"
     ]
    }
   ],
   "source": [
    "mu=3.9\n",
    "\n",
    "zscore=(avg_temp_1-mu)/(std_dev/(np.sqrt(sample_size)))\n",
    "\n",
    "print(('z score is',round(zscore,4)))\n",
    "\n"
   ]
  },
  {
   "cell_type": "code",
   "execution_count": 16,
   "metadata": {},
   "outputs": [
    {
     "name": "stdout",
     "output_type": "stream",
     "text": [
      "z Critical value is :  1.2815515655446004\n"
     ]
    }
   ],
   "source": [
    "from scipy import stats\n",
    "alpha=0.1\n",
    "\n",
    "z_critical = stats.norm.ppf(1 - alpha)\n",
    "print('z Critical value is : ',z_critical)"
   ]
  },
  {
   "cell_type": "code",
   "execution_count": 17,
   "metadata": {},
   "outputs": [
    {
     "name": "stdout",
     "output_type": "stream",
     "text": [
      "We Fail to Reject NULL hypothesis as for lower tail Z score greater than - z critical.\n"
     ]
    }
   ],
   "source": [
    "if zscore < z_critical:\n",
    "    print(\"We Reject NULL hypothesis as for lower tail if Z score less than - z critical.\")\n",
    "else:\n",
    "    print(\"We Fail to Reject NULL hypothesis as for lower tail Z score greater than - z critical.\")\n",
    "    "
   ]
  },
  {
   "cell_type": "markdown",
   "metadata": {},
   "source": [
    "Since z-statistic value = 2.75 is greater than z-critical value of 1.28 at significance level alpha =0.1 \n",
    "Hence we Fail to Reject the null hypotheis .\n",
    "We accept the Alternate hypothesis that temperature has indeed risen more than 3.9 degC"
   ]
  },
  {
   "cell_type": "markdown",
   "metadata": {},
   "source": [
    "##### Calculating  p_value based on z score"
   ]
  },
  {
   "cell_type": "code",
   "execution_count": 31,
   "metadata": {},
   "outputs": [
    {
     "name": "stdout",
     "output_type": "stream",
     "text": [
      "p-value based on z-score is :  0.997\n"
     ]
    }
   ],
   "source": [
    "p_value_z=stats.norm.cdf(zscore)\n",
    "print('p-value based on z-score is : ',round(p_value_z, 4))\n"
   ]
  },
  {
   "cell_type": "code",
   "execution_count": 21,
   "metadata": {},
   "outputs": [
    {
     "name": "stdout",
     "output_type": "stream",
     "text": [
      "We Fail to Reject NULL hypothesis as p value is greater than level of significance\n"
     ]
    }
   ],
   "source": [
    "if p_value_z < alpha:\n",
    "    print(\"We Reject NULL hypothesis as p value < level of significance\")\n",
    "else :\n",
    "    print(\"We Fail to Reject NULL hypothesis as p value is greater than level of significance\")\n"
   ]
  },
  {
   "cell_type": "markdown",
   "metadata": {},
   "source": [
    "##### 2. State the Hypothesis and do the necessary calculations to accept or reject the corresponding null hypothesis. (8 marks)"
   ]
  },
  {
   "cell_type": "markdown",
   "metadata": {},
   "source": [
    "The sample size of 35 days is optimum enough to conduct both z and t tests And at this optimum size we find that t-statistic value and z-statistic value "
   ]
  },
  {
   "cell_type": "markdown",
   "metadata": {},
   "source": [
    "##### Step 1 : Define the Null or Alternative Hypothesis"
   ]
  },
  {
   "cell_type": "markdown",
   "metadata": {},
   "source": [
    "Hypothesis will be defined for both Z and T test\n",
    "\n",
    "Sample size = n = 35 days temperatures\n",
    "\n",
    "H0 mu <= 3.9 , hypothesized value of mean population (Upper acceptable mean temperature 3.9 )\n",
    "\n",
    "H1 mu > 3.9 , alternative hypothesis (The mean temperature of the storage could be greater than 3.9 C)\n",
    "\n",
    "Null hypothesis, H0 = Average temperature will be less than or equivalent to upper limit of 3.9 degC\n",
    "\n",
    "Alternate hypothesis, H1 = Average temp has risen more than 3.9 degC\n",
    "\n",
    "aplha(𝛼) = 0.1\n",
    "\n",
    "Standard Deviation - Not known"
   ]
  },
  {
   "cell_type": "markdown",
   "metadata": {},
   "source": [
    "##### Step 2: Decide the significance level"
   ]
  },
  {
   "cell_type": "markdown",
   "metadata": {},
   "source": [
    "Here we select  alpha  = 0.1"
   ]
  },
  {
   "cell_type": "code",
   "execution_count": 22,
   "metadata": {},
   "outputs": [
    {
     "name": "stdout",
     "output_type": "stream",
     "text": [
      "The sample size for this problem is 35\n"
     ]
    }
   ],
   "source": [
    "print(\"The sample size for this problem is\",len(cold_storage_mar_2018_df))"
   ]
  },
  {
   "cell_type": "markdown",
   "metadata": {},
   "source": [
    "##### Step 3: Identify the test statistic"
   ]
  },
  {
   "cell_type": "markdown",
   "metadata": {},
   "source": [
    "We do not know the population standard deviation and n = 35. So we use the t distribution and the  𝑡𝑆𝑇𝐴𝑇  test statistic."
   ]
  },
  {
   "cell_type": "markdown",
   "metadata": {},
   "source": [
    "##### Step 4: Calculate the p - value and test statistic"
   ]
  },
  {
   "cell_type": "code",
   "execution_count": 32,
   "metadata": {},
   "outputs": [
    {
     "name": "stdout",
     "output_type": "stream",
     "text": [
      "One sample t test \n",
      " t_statistic: 2.752358609800241\t p value: 0.009422395404264431 \n"
     ]
    }
   ],
   "source": [
    "# one sample t-test\n",
    "\n",
    "temperatures = list(cold_storage_mar_2018_df['Temperature'])\n",
    "\n",
    "t_statistic, p_value = ttest_1samp(temperatures, 3.9)\n",
    "\n",
    "print('One sample t test \\n t_statistic: {0}\\t p value: {1} '.format(t_statistic, p_value))\n",
    "\n",
    "# print(\"P_value found: {}\".format(p_value))\n"
   ]
  },
  {
   "cell_type": "code",
   "execution_count": 25,
   "metadata": {},
   "outputs": [
    {
     "name": "stdout",
     "output_type": "stream",
     "text": [
      "The t-critical vaue is :  1.3062118007176513\n"
     ]
    }
   ],
   "source": [
    "# t-distribution Percent Point Function\n",
    "from scipy.stats import t\n",
    "# define probability\n",
    "p = 0.90\n",
    "df = 35\n",
    "# retrieve value <= probability\n",
    "t_critical_value = t.ppf(p, df)\n",
    "print('The t-critical vaue is : ',t_critical_value)\n"
   ]
  },
  {
   "cell_type": "markdown",
   "metadata": {},
   "source": [
    "##### t score will be same as z score as for calculating z score we have applied central limit theorem and have used sample standard deviation as population standard deviation is not available.\n"
   ]
  },
  {
   "cell_type": "markdown",
   "metadata": {},
   "source": [
    "##### Step 5 Decide to reject or accept null hypothesis"
   ]
  },
  {
   "cell_type": "code",
   "execution_count": 26,
   "metadata": {},
   "outputs": [
    {
     "name": "stdout",
     "output_type": "stream",
     "text": [
      "We Reject NULL hypothesis as p value < level of significance\n"
     ]
    }
   ],
   "source": [
    "if p_value < alpha :\n",
    "    print(\"We Reject NULL hypothesis as p value < level of significance\")\n",
    "else :\n",
    "    print(\"We Fail to Reject NULL hypothesis as p value is greater than level of significance\")\n"
   ]
  },
  {
   "cell_type": "markdown",
   "metadata": {},
   "source": [
    "With 90% confidence, there is not sufficient evidence to prove that the mean maintained temperature of milk is equal to upper limit of 3.9degC."
   ]
  },
  {
   "cell_type": "markdown",
   "metadata": {},
   "source": [
    "##### 3. Give your inference. (6 marks)\n"
   ]
  },
  {
   "cell_type": "markdown",
   "metadata": {},
   "source": [
    "##### Both the tests ( z as well as t ) proved that Temperature had been well over 3.9 degC against the claims of Supervisor who had been vigilant about not breaching the 3.9 degC\n",
    "\n",
    "The sample size of 35 days is optimum enough to conduct both z and t tests And at this optimum size we find that t-statistic value and z-statistic value are almost similar that is ,\n",
    "\n",
    "t-statistic = z-statistic = 2.75 ( another striking similarity to reject the Null hypotheis )"
   ]
  },
  {
   "cell_type": "markdown",
   "metadata": {},
   "source": [
    "Since p value, is less than alpha = 0.1, we will reject the NULL Hypothesis, With 90% confidence we can say that , there is a problem with the Cold Storage and there is a need for some Corrective action in the Cold Storage plant."
   ]
  },
  {
   "cell_type": "markdown",
   "metadata": {},
   "source": [
    "Using both z test and t test we fail to reject null hypothesis,so we can conlude that there is need of some corrective action in the cold storage plant.\n"
   ]
  },
  {
   "cell_type": "markdown",
   "metadata": {},
   "source": [
    "True mean is greater than 3.9. Hence from the hypothesis testing , statistically it says that the population mean could be higher than 3.9 C. Alternate hypothesis is True"
   ]
  },
  {
   "cell_type": "markdown",
   "metadata": {},
   "source": [
    "Since p value, is less than alpha = 0.1, we will reject the NULL Hypothesis, With 90% confidence we can say that , there is a problem with the Cold Storage and there is a need for some Corrective action in the Cold Storage plant."
   ]
  },
  {
   "cell_type": "markdown",
   "metadata": {},
   "source": [
    "So H0 can be rejected. Null hypothesis is rejected and the storage temperature is greater than 3.9 C. Ha\n",
    "– Alternate hypothesis is accepted"
   ]
  },
  {
   "cell_type": "markdown",
   "metadata": {},
   "source": [
    "The inference is that temperature of the storage could go higher than 3.9 C. If the Cold storage can maintain the temperature below 3.9 C , the problem will be resolved. "
   ]
  }
 ],
 "metadata": {
  "kernelspec": {
   "display_name": "Python 3",
   "language": "python",
   "name": "python3"
  },
  "language_info": {
   "codemirror_mode": {
    "name": "ipython",
    "version": 3
   },
   "file_extension": ".py",
   "mimetype": "text/x-python",
   "name": "python",
   "nbconvert_exporter": "python",
   "pygments_lexer": "ipython3",
   "version": "3.8.5"
  }
 },
 "nbformat": 4,
 "nbformat_minor": 4
}
